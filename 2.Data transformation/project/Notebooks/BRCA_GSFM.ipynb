{
 "cells": [
  {
   "cell_type": "code",
   "execution_count": 1,
   "id": "8eb6f145",
   "metadata": {},
   "outputs": [],
   "source": [
    "#Imput modules\n",
    "import os\n",
    "import sys\n",
    "import pandas as pd\n",
    "import numpy as np\n",
    "import seaborn as sns\n",
    "import rpy2\n",
    "import rpy2.robjects as ro\n",
    "import rpy2.robjects.numpy2ri\n",
    "rpy2.robjects.numpy2ri.activate()\n",
    "import scipy \n",
    "import scipy.stats as ss\n",
    "import statsmodels\n",
    "from statsmodels import stats\n",
    "from statsmodels.stats import multitest\n",
    "sys.path.append('../Script/')\n",
    "import GSFM\n",
    "\n",
    "ROOT_DIR = os.path.abspath(\"../\")"
   ]
  },
  {
   "cell_type": "code",
   "execution_count": 2,
   "id": "4af4589c",
   "metadata": {},
   "outputs": [],
   "source": [
    "para_in = {\n",
    "    'output_dir': ROOT_DIR+\"/Sample_output/BRCA/\",\n",
    "    'input_expr_file': os.path.join(ROOT_DIR, \"Sample_input/BRCA/LINCS_MCF7_drug.csv\"),\n",
    "    'input_ctrl_file': os.path.join(ROOT_DIR, \"Sample_input/BRCA/TCGA_BRCA_patient.csv\"),\n",
    "    'Label_Up': True,                    \n",
    "    'Label_Down':True,                  \n",
    "    'Label_ssGSEA': True,               \n",
    "    'Label_TF':True,                     \n",
    "    'sele_modules': [    \n",
    "                     \n",
    "        \"Adipogenesis\",\"Allograft rejection\",\"Androgen response\",\"Angiogenesis\",\"Apical junction\",\n",
    "        \"Apical surface\",\"Apoptosis\",\"Bile acid metabolism\",\"Cholesterol homeostasis\", \"Coagulation\",\n",
    "        \"Complement\", \"DNA repair\", \"E2F targets\", \"Epithelial mesenchymal transition\", \"Estrogen response early\", \n",
    "        \"Estrogen response late\", \"Fatty acid metabolism\", \"G2M checkpoint\", \"Glycolysis\", \"Hedgehog signaling\", \n",
    "        \"Heme metabolism\", \"Hypoxia\", \"IL2 STAT5 signaling\", \"IL6 JAK STA3 signaling\", \"Inflammatory response\", \n",
    "        \"Interferon α response\", \"Interferon gamma response\", \"KRAS signaling DN\", \"KRAS signaling UP\", \"Mitotic spindle\", \n",
    "        \"Mtorc1 signaling\", \"MYC targets V1\", \"MYC targets V2\", \"Myogenesis\", \"Notch signaling\", \"Oxidative phosphorylation\", \n",
    "        \"p53 pathway\", \"Pancreas β cells\", \"Peroxisome\", \"PI3K AKT MTOR signaling\", \"Protein secretion\", \"Reactive oxygen species pathway\",\n",
    "        \"Spermatogenesis\", \"TGF β signaling\", \"TNFA signaling via NFKB\", \"Unfolded protein response\", \"UV response DN\", \"UV response UP\", \n",
    "        \"WNT β catenin signaling\", \"Xenobiotic metabolism\"\n",
    "         \n",
    "                   \n",
    "                    ]\n",
    "}"
   ]
  },
  {
   "cell_type": "code",
   "execution_count": 3,
   "id": "614844f4",
   "metadata": {},
   "outputs": [],
   "source": [
    "para_out = {'output_fmf_file':para_in['output_dir'] +\"/LINCS_MCF7_drug_GSFM.csv\",\n",
    "            'output_fmf_ctrl_file': para_in['output_dir'] + \"/TCGA_BRCA_patient_GSFM.csv\"\n",
    "           }"
   ]
  },
  {
   "cell_type": "code",
   "execution_count": 4,
   "id": "c32e3c1d",
   "metadata": {},
   "outputs": [
    {
     "name": "stdout",
     "output_type": "stream",
     "text": [
      "INfO:  /home/data/lxy/GSFM_github/2.data transformation/project/Sample_output/BRCA/ already exists!\n"
     ]
    }
   ],
   "source": [
    "## generate a output directory \n",
    "output_dir = para_in['output_dir']\n",
    "\n",
    "if os.path.exists(output_dir) == False:\n",
    "    try:\n",
    "        os.makedirs(output_dir)\n",
    "    except OSError:\n",
    "        print (\"Creation of the directory %s failed\" % output_dir)\n",
    "    else:\n",
    "        print (\"Successfully created the directory %s \" % output_dir)\n",
    "else:\n",
    "    print (\"INfO:  %s already exists!\" % output_dir)"
   ]
  },
  {
   "cell_type": "code",
   "execution_count": 6,
   "id": "4e794446",
   "metadata": {},
   "outputs": [],
   "source": [
    "#1) Load genes from the selected fucntional modules from HALLMARK genesets \n",
    "\n",
    "File_FM = os.path.join(ROOT_DIR,\"Dataset/HALLMARK.csv\")\n",
    "\n",
    "dic_module,  Functional_modules = GSFM.load_function_modules(File_FM)\n",
    "\n",
    "module_selected_gmt = Functional_modules.loc[Functional_modules['name'].isin(para_in['sele_modules']) ]\n",
    "\n",
    "#2) Load the drug gene expression matrix\n",
    "\n",
    "data_matrix_drug = pd.read_csv(para_in['input_expr_file'], index_col = 'Unnamed: 0')\n",
    "\n",
    "#3) Load the TF-module pairs as estimated \n",
    "\n",
    "TF_pairs = GSFM.get_tfpairs_for_select_pathways(data_matrix_drug,para_in['sele_modules'],dic_module) "
   ]
  },
  {
   "cell_type": "code",
   "execution_count": 7,
   "id": "42cdbd55",
   "metadata": {},
   "outputs": [
    {
     "name": "stdout",
     "output_type": "stream",
     "text": [
      "INfO:  /home/data/lxy/GSFM_github/2.data transformation/project/temp already exists!\n",
      "0\n",
      "<Popen: returncode: None args: ['Rscript', '/home/data/lxy/GSFM_github/2.dat...>\n",
      "1\n",
      "<Popen: returncode: None args: ['Rscript', '/home/data/lxy/GSFM_github/2.dat...>\n",
      "2\n",
      "<Popen: returncode: None args: ['Rscript', '/home/data/lxy/GSFM_github/2.dat...>\n",
      "3\n",
      "<Popen: returncode: None args: ['Rscript', '/home/data/lxy/GSFM_github/2.dat...>\n",
      "4\n",
      "<Popen: returncode: None args: ['Rscript', '/home/data/lxy/GSFM_github/2.dat...>\n",
      "5\n",
      "<Popen: returncode: None args: ['Rscript', '/home/data/lxy/GSFM_github/2.dat...>\n",
      "6\n",
      "<Popen: returncode: None args: ['Rscript', '/home/data/lxy/GSFM_github/2.dat...>\n"
     ]
    }
   ],
   "source": [
    "#4) Calculate the functional module BIQs for the drug gene expression matrix. \n",
    "\n",
    "drug_GSFM = GSFM.generate_BIQ(data_matrix_drug, \n",
    "                                          para_in['sele_modules'], \n",
    "                                          module_selected_gmt,\n",
    "                                          TF_pairs, \n",
    "                                          UP = para_in['Label_Up'], \n",
    "                                          DOWN = para_in['Label_Down'], \n",
    "                                          ssGSEA = para_in['Label_ssGSEA'], \n",
    "                                          TF = para_in['Label_TF']\n",
    "                                         )                                            \n",
    "\n",
    "drug_GSFM.to_csv(para_out['output_fmf_file'])"
   ]
  },
  {
   "cell_type": "code",
   "execution_count": 10,
   "id": "30702119",
   "metadata": {},
   "outputs": [],
   "source": [
    "#5）Load the cancer gene expression matrix\n",
    "\n",
    "data_matrix_patient = pd.read_csv(para_in['input_ctrl_file'], index_col = 'Unnamed: 0')"
   ]
  },
  {
   "cell_type": "code",
   "execution_count": 11,
   "id": "e191ab5d",
   "metadata": {},
   "outputs": [
    {
     "name": "stdout",
     "output_type": "stream",
     "text": [
      "INfO:  /home/data/lxy/GSFM_github/2.data transformation/project/temp already exists!\n",
      "0\n",
      "<Popen: returncode: None args: ['Rscript', '/home/data/lxy/GSFM_github/2.dat...>\n",
      "1\n",
      "<Popen: returncode: None args: ['Rscript', '/home/data/lxy/GSFM_github/2.dat...>\n"
     ]
    }
   ],
   "source": [
    "#6) Calculate the functional module BIQs for the cancer gene expression matrix.\n",
    "\n",
    "patient_GSFM= GSFM.generate_BIQ(data_matrix_patient,\n",
    "                                        para_in['sele_modules'],\n",
    "                                        module_selected_gmt, \n",
    "                                        TF_pairs,\n",
    "                                        UP = para_in['Label_Up'], \n",
    "                                        DOWN = para_in['Label_Down'],\n",
    "                                        ssGSEA = para_in['Label_ssGSEA'], \n",
    "                                        TF = para_in['Label_TF']\n",
    "                                       )\n",
    "\n",
    "patient_GSFM.to_csv(para_out['output_fmf_ctrl_file'])"
   ]
  }
 ],
 "metadata": {
  "kernelspec": {
   "display_name": "Python 3 (ipykernel)",
   "language": "python",
   "name": "python3"
  },
  "language_info": {
   "codemirror_mode": {
    "name": "ipython",
    "version": 3
   },
   "file_extension": ".py",
   "mimetype": "text/x-python",
   "name": "python",
   "nbconvert_exporter": "python",
   "pygments_lexer": "ipython3",
   "version": "3.11.4"
  }
 },
 "nbformat": 4,
 "nbformat_minor": 5
}
